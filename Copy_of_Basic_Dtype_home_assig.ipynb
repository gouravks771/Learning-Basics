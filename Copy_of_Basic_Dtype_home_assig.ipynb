{
 "cells": [
  {
   "cell_type": "code",
   "execution_count": null,
   "metadata": {
    "colab": {
     "base_uri": "https://localhost:8080/"
    },
    "id": "zj0qj9Z3vGYT",
    "outputId": "887a8861-f144-4812-de45-8e8499da377c"
   },
   "outputs": [
    {
     "name": "stdout",
     "output_type": "stream",
     "text": [
      "<class 'int'>\n",
      "<class 'float'>\n",
      "<class 'complex'>\n"
     ]
    }
   ],
   "source": [
    "# print the type of x,y,z\n",
    "\n",
    "x = 1  \n",
    "y = 2.8  \n",
    "z = 1j\n",
    "print(type(x))\n",
    "print(type(y))\n",
    "print(type(z))"
   ]
  },
  {
   "cell_type": "code",
   "execution_count": null,
   "metadata": {
    "colab": {
     "base_uri": "https://localhost:8080/"
    },
    "id": "AljHnQDuvT4s",
    "outputId": "b7f2657b-6dfc-4524-ef63-5162ff1cfdaa"
   },
   "outputs": [
    {
     "name": "stdout",
     "output_type": "stream",
     "text": [
      "1\n"
     ]
    }
   ],
   "source": [
    "# Convert flot into int \n",
    "\n",
    "x=1.4\n",
    "x=int(x//1.4)\n",
    "print(x)"
   ]
  },
  {
   "cell_type": "code",
   "execution_count": null,
   "metadata": {
    "colab": {
     "base_uri": "https://localhost:8080/"
    },
    "id": "pXCgmrggvfKE",
    "outputId": "12fadd8f-96b1-40c5-d7ac-9c4a715919d6"
   },
   "outputs": [
    {
     "name": "stdout",
     "output_type": "stream",
     "text": [
      "5.0\n",
      "3\n",
      "5j\n"
     ]
    }
   ],
   "source": [
    "#Convert from one type to another:\n",
    "\n",
    "x = 5   # int\n",
    "y = 3.8  # float\n",
    "z = 5j   # complex\n",
    "\n",
    "#convert from int to float:\n",
    "x=float(5)\n",
    "print(x)\n",
    "#convert from float to int:\n",
    "y=int(3.8)\n",
    "print(y)\n",
    "#convert from int to complex:\n",
    "z=complex(5j)\n",
    "print(z)"
   ]
  },
  {
   "cell_type": "code",
   "execution_count": null,
   "metadata": {
    "id": "Rm34yvYbweTT"
   },
   "outputs": [],
   "source": [
    "# Print 15 random numbers\n",
    "\n",
    "import \n",
    "print(random.randrange(1, 15) )"
   ]
  },
  {
   "cell_type": "code",
   "execution_count": null,
   "metadata": {
    "colab": {
     "base_uri": "https://localhost:8080/"
    },
    "id": "eXkc7b3yxYpN",
    "outputId": "fd0bffe8-ac26-4dfc-9aef-dd4dd98f9409"
   },
   "outputs": [
    {
     "name": "stdout",
     "output_type": "stream",
     "text": [
      "<class 'str'>\n",
      "<class 'str'>\n",
      "<class 'str'>\n",
      "<class 'str'>\n",
      "<class 'str'>\n",
      "<class 'str'>\n"
     ]
    }
   ],
   "source": [
    "# Convert int ,float to string \n",
    "\n",
    "x = str(\"t5\") \n",
    "y = str(4)    \n",
    "z = str(6.0)\n",
    "print(type(x))\n",
    "print(type(y))\n",
    "print(type(z))\n",
    "converted_x = str(x)\n",
    "converted_y = str(y)\n",
    "converted_z = str(z)\n",
    "print(type(converted_x))\n",
    "print(type(converted_y))\n",
    "print(type(converted_z))\n"
   ]
  },
  {
   "cell_type": "code",
   "execution_count": null,
   "metadata": {
    "colab": {
     "base_uri": "https://localhost:8080/"
    },
    "id": "RDquS0nfxB81",
    "outputId": "fbcb9398-80e4-43d8-8586-4b5d5f3a6eda"
   },
   "outputs": [
    {
     "name": "stdout",
     "output_type": "stream",
     "text": [
      "hello\n"
     ]
    }
   ],
   "source": [
    "# Assign a string to variable \n",
    "\n",
    "a=\"hello\"\n",
    "print(a)"
   ]
  },
  {
   "cell_type": "code",
   "execution_count": null,
   "metadata": {
    "colab": {
     "base_uri": "https://localhost:8080/"
    },
    "id": "RH-g9oUdypcy",
    "outputId": "f90da6d9-ec0a-4033-87c8-5e9793f06e03"
   },
   "outputs": [
    {
     "name": "stdout",
     "output_type": "stream",
     "text": [
      "Hello raj?\n"
     ]
    }
   ],
   "source": [
    "# Concatenate two string \n",
    "a=\"Hello raj?\"\n",
    "b=\"Hi Manish.\"\n",
    "c=\"How are you.\"\n",
    "d=\"I am fine.\"\n",
    "print(a)"
   ]
  },
  {
   "cell_type": "code",
   "execution_count": null,
   "metadata": {
    "colab": {
     "base_uri": "https://localhost:8080/"
    },
    "id": "Z4z8NPqxzXsS",
    "outputId": "21d6fd93-4a63-4223-eba0-8cc70527b179"
   },
   "outputs": [
    {
     "name": "stdout",
     "output_type": "stream",
     "text": [
      "lo, Wor\n"
     ]
    }
   ],
   "source": [
    "# Print the output='lo, Wor'\n",
    "a = \"Hello, World!\"\n",
    "print(a[3:6],a[-6:-3])"
   ]
  },
  {
   "cell_type": "code",
   "execution_count": null,
   "metadata": {
    "id": "maTfRVHrzA-2"
   },
   "outputs": [],
   "source": [
    "# Check the required string/word is in the sentence of not\n",
    "\n",
    "Sentence=\"Hello Indian , I like you culture.\"\n",
    "\n",
    "print(like in ________)"
   ]
  },
  {
   "cell_type": "code",
   "execution_count": null,
   "metadata": {
    "colab": {
     "base_uri": "https://localhost:8080/"
    },
    "id": "eyFT8KlO0cMk",
    "outputId": "31874daa-3b2d-4c61-ecff-412e6fd0fcad"
   },
   "outputs": [
    {
     "name": "stdout",
     "output_type": "stream",
     "text": [
      "I Love\n"
     ]
    }
   ],
   "source": [
    "# Print the output='I Love'\n",
    "Sentence=\"I Love India!\"\n",
    "print(Sentence[0:6])"
   ]
  },
  {
   "cell_type": "code",
   "execution_count": null,
   "metadata": {
    "colab": {
     "base_uri": "https://localhost:8080/"
    },
    "id": "VP50WkkomLu8",
    "outputId": "b45f2c0d-d1d8-472a-df65-10a060f350e1"
   },
   "outputs": [
    {
     "name": "stdout",
     "output_type": "stream",
     "text": [
      "I want to pay 567 dollars for 3 pieces of item 49.95.\n"
     ]
    }
   ],
   "source": [
    "#print the output: \n",
    "#I want to pay 49.95 dollars for 3 pieces of item 567\n",
    "\n",
    "quantity = 3\n",
    "itemno = 567\n",
    "price = 49.95\n",
    "myorder = \"I want to pay {2} dollars for {1} pieces of item {0}.\"\n",
    "print(myorder.format(price,quantity, itemno)) "
   ]
  },
  {
   "cell_type": "code",
   "execution_count": null,
   "metadata": {
    "colab": {
     "base_uri": "https://localhost:8080/"
    },
    "id": "fcLAtZJUn8dP",
    "outputId": "4f01dec2-1faf-4368-cf50-9eee2f2cf977"
   },
   "outputs": [
    {
     "name": "stdout",
     "output_type": "stream",
     "text": [
      "We will vist \"America\" after two days.\n"
     ]
    }
   ],
   "source": [
    "# remove the error\n",
    "Sent = \"We will vist \\\"America\\\" after two days.\"\n",
    "print(Sent)"
   ]
  },
  {
   "cell_type": "code",
   "execution_count": null,
   "metadata": {
    "colab": {
     "base_uri": "https://localhost:8080/"
    },
    "id": "NASyDsBbofMs",
    "outputId": "c6820102-53bc-4d3d-ad2a-47c892cfaf4e"
   },
   "outputs": [
    {
     "name": "stdout",
     "output_type": "stream",
     "text": [
      " Hii Mona , \n",
      "When will we go for holidays ?  \n"
     ]
    }
   ],
   "source": [
    "# Print the sentence after comma in next line \n",
    "Sent=\" Hii Mona , \\nWhen will we go for holidays ?  \"\n",
    "print(Sent)"
   ]
  },
  {
   "cell_type": "code",
   "execution_count": null,
   "metadata": {
    "colab": {
     "base_uri": "https://localhost:8080/"
    },
    "id": "QGOrGORspHnt",
    "outputId": "641555a5-9cd8-49c3-ad0e-4c960bbf3935"
   },
   "outputs": [
    {
     "name": "stdout",
     "output_type": "stream",
     "text": [
      "['Sam', 'Nick', 'Ram']\n"
     ]
    }
   ],
   "source": [
    "# Remove the duplicate from the list \n",
    "List=[\"Ram\",'Sam','Nick','Sam']\n",
    "List=list(set(List))\n",
    "print(List)"
   ]
  },
  {
   "cell_type": "code",
   "execution_count": 1,
   "metadata": {
    "colab": {
     "base_uri": "https://localhost:8080/"
    },
    "id": "eZfO5og7qk56",
    "outputId": "4118a6f6-8ffd-4b5d-8b20-e1bd89c76307"
   },
   "outputs": [
    {
     "name": "stdout",
     "output_type": "stream",
     "text": [
      "mango\n"
     ]
    }
   ],
   "source": [
    "# Print last for element of list by negative Indexing \n",
    "\n",
    "Fruit_list = [\"apple\", \"banana\", \"cherry\", \"orange\", \"kiwi\", \"melon\", \"mango\"]\n",
    "print(Fruit_list[-1])"
   ]
  },
  {
   "cell_type": "code",
   "execution_count": null,
   "metadata": {
    "colab": {
     "base_uri": "https://localhost:8080/"
    },
    "id": "mPJFzwewrEij",
    "outputId": "51af8c0f-c461-479e-b1d9-665c2bb33727"
   },
   "outputs": [
    {
     "name": "stdout",
     "output_type": "stream",
     "text": [
      "['Ram', 'Nick', 'Sam']\n"
     ]
    }
   ],
   "source": [
    "# Replace the first Sam from Micky\n",
    "List=[\"Ram\",'Sam','Nick','Sam']\n",
    "List.pop(1)\n",
    "print(List)"
   ]
  },
  {
   "cell_type": "code",
   "execution_count": null,
   "metadata": {
    "colab": {
     "base_uri": "https://localhost:8080/"
    },
    "id": "pSGdFz2srUMA",
    "outputId": "a00c19b2-5ef6-4874-828f-12ba5a3f1f0b"
   },
   "outputs": [
    {
     "name": "stdout",
     "output_type": "stream",
     "text": [
      "['Ram', 'Sam', 'Nick', 'micky']\n"
     ]
    }
   ],
   "source": [
    "# Insert the Micky at 3rd index\n",
    "List=[\"Ram\",'Sam','Nick','Sam']\n",
    "List[3]=\"micky\"\n",
    "print(List)"
   ]
  },
  {
   "cell_type": "code",
   "execution_count": null,
   "metadata": {
    "colab": {
     "base_uri": "https://localhost:8080/"
    },
    "id": "VwK2FyRrroiY",
    "outputId": "92d91664-abe2-4bcb-9b8d-85f9c1fdbec0"
   },
   "outputs": [
    {
     "name": "stdout",
     "output_type": "stream",
     "text": [
      "('apple', 'banana', 'cherry', 'kiwi')\n"
     ]
    }
   ],
   "source": [
    "# Insert Kiwi in a tuple\n",
    "\n",
    "x = (\"apple\", \"banana\", \"cherry\")\n",
    "y = list(x)\n",
    "y.append(\"kiwi\")\n",
    "x = tuple(y)\n",
    "\n",
    "print(x)"
   ]
  },
  {
   "cell_type": "code",
   "execution_count": null,
   "metadata": {
    "colab": {
     "base_uri": "https://localhost:8080/"
    },
    "id": "UUky7WT4tnRM",
    "outputId": "817008c1-01f7-4cd9-e11b-1a4dcc5f62a9"
   },
   "outputs": [
    {
     "name": "stdout",
     "output_type": "stream",
     "text": [
      "{'cherry', 'apple', 'mango', 'banana'}\n"
     ]
    }
   ],
   "source": [
    "# Add item in set\n",
    "\n",
    "Fruits = {\"apple\", \"banana\", \"cherry\"}\n",
    "\n",
    "Fruits.add(\"mango\")\n",
    "\n",
    "print(Fruits)"
   ]
  },
  {
   "cell_type": "code",
   "execution_count": null,
   "metadata": {
    "colab": {
     "base_uri": "https://localhost:8080/"
    },
    "id": "NKHoF69hueSK",
    "outputId": "2e9cb2e7-2438-45ea-c399-660fd1ed44e2"
   },
   "outputs": [
    {
     "name": "stdout",
     "output_type": "stream",
     "text": [
      "{'apple', 'banana', 'mango', 'papaya', 'cherry', 'pineapple'}\n"
     ]
    }
   ],
   "source": [
    "# Add two set\n",
    "Fruit1 = {\"apple\", \"banana\", \"cherry\"}\n",
    "Fruit2 = {\"pineapple\", \"mango\", \"papaya\"}\n",
    "F=Fruit1.union(Fruit2)\n",
    "print(F)"
   ]
  },
  {
   "cell_type": "code",
   "execution_count": 2,
   "metadata": {
    "colab": {
     "base_uri": "https://localhost:8080/",
     "height": 132
    },
    "id": "Z5YUZ2dUvbwK",
    "outputId": "db72a83f-cf5d-4434-b32d-7b95bde7a27d"
   },
   "outputs": [
    {
     "ename": "IndentationError",
     "evalue": "ignored",
     "output_type": "error",
     "traceback": [
      "\u001b[0;36m  File \u001b[0;32m\"<ipython-input-2-072e463ecdbf>\"\u001b[0;36m, line \u001b[0;32m2\u001b[0m\n\u001b[0;31m    set1={\"Krishh\",\"Prince\",\"KUmar\"}\u001b[0m\n\u001b[0m    ^\u001b[0m\n\u001b[0;31mIndentationError\u001b[0m\u001b[0;31m:\u001b[0m unexpected indent\n"
     ]
    }
   ],
   "source": [
    "# Remove the any item from the set\n",
    " set1={\"Krishh\",\"Prince\",\"KUmar\"}\n",
    " del set1(\"krishh\")\n",
    " print(set1)"
   ]
  },
  {
   "cell_type": "code",
   "execution_count": 5,
   "metadata": {
    "colab": {
     "base_uri": "https://localhost:8080/"
    },
    "id": "_f_XIOsVvtz5",
    "outputId": "360abd77-db0e-48db-8818-631699ac2136"
   },
   "outputs": [
    {
     "name": "stdout",
     "output_type": "stream",
     "text": [
      "dict_keys(['brand', 'model', 'year'])\n",
      "dict_keys(['brand', 'model', 'year', 220])\n"
     ]
    }
   ],
   "source": [
    "#Add a new item to the original dictionary, and see that the keys list gets updated as well:\n",
    "Bike = {\n",
    "\"brand\": \"Bajaj\",\n",
    "\"model\": \"TVS\",\n",
    "\"year\": 2013\n",
    "}\n",
    "\n",
    "x = Bike.keys()\n",
    "\n",
    "print(x) #before the change\n",
    "\n",
    "Bike[220] = \"pulsar\"\n",
    "\n",
    "print(x) #after the change"
   ]
  },
  {
   "cell_type": "code",
   "execution_count": 8,
   "metadata": {
    "colab": {
     "base_uri": "https://localhost:8080/"
    },
    "id": "m8OtEPYfwaqX",
    "outputId": "0f8bc17b-a172-42e8-8081-9c9475691bbe"
   },
   "outputs": [
    {
     "name": "stdout",
     "output_type": "stream",
     "text": [
      "{'brand': 'Ford', 'model': 'Mustang', 'year': 1964, 2020: 'Baleno'}\n"
     ]
    }
   ],
   "source": [
    "#Update the item from the Dict\n",
    "Car = {\n",
    "  \"brand\": \"Ford\",\n",
    "  \"model\": \"Mustang\",\n",
    "  \"year\": 1964\n",
    "}\n",
    "Car[2020]=\"Baleno\"\n",
    "print(Car)"
   ]
  },
  {
   "cell_type": "code",
   "execution_count": 14,
   "metadata": {
    "colab": {
     "base_uri": "https://localhost:8080/"
    },
    "id": "IknZvic6wvIo",
    "outputId": "8c162c6f-4600-441b-e979-6ee47a0f31c8"
   },
   "outputs": [
    {
     "name": "stdout",
     "output_type": "stream",
     "text": [
      "{'brand': 'Ford', 'model': 'Mustang'}\n"
     ]
    }
   ],
   "source": [
    "car = {\n",
    "  \"brand\": \"Ford\",\n",
    "  \"model\": \"Mustang\",\n",
    "  \"year\": 1964\n",
    "}\n",
    "car.pop('year')\n",
    "print(car)"
   ]
  },
  {
   "cell_type": "code",
   "execution_count": null,
   "metadata": {
    "id": "rYtNIKolgoR4"
   },
   "outputs": [],
   "source": []
  }
 ],
 "metadata": {
  "colab": {
   "collapsed_sections": [],
   "name": "Copy of Basic_Dtype_home_assig.ipynb",
   "provenance": []
  },
  "kernelspec": {
   "display_name": "Python 3",
   "language": "python",
   "name": "python3"
  },
  "language_info": {
   "codemirror_mode": {
    "name": "ipython",
    "version": 3
   },
   "file_extension": ".py",
   "mimetype": "text/x-python",
   "name": "python",
   "nbconvert_exporter": "python",
   "pygments_lexer": "ipython3",
   "version": "3.8.5"
  }
 },
 "nbformat": 4,
 "nbformat_minor": 1
}
